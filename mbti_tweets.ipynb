{
 "cells": [
  {
   "cell_type": "code",
   "execution_count": 1,
   "metadata": {},
   "outputs": [],
   "source": [
    "import pandas as pd\n",
    "import numpy as np\n",
    "import matplotlib.pyplot as plt\n",
    "import seaborn as sns"
   ]
  },
  {
   "cell_type": "markdown",
   "metadata": {},
   "source": [
    "After importing necessary libraries, we next import the training dataset"
   ]
  },
  {
   "cell_type": "code",
   "execution_count": 2,
   "metadata": {},
   "outputs": [
    {
     "data": {
      "text/html": [
       "<div>\n",
       "<style scoped>\n",
       "    .dataframe tbody tr th:only-of-type {\n",
       "        vertical-align: middle;\n",
       "    }\n",
       "\n",
       "    .dataframe tbody tr th {\n",
       "        vertical-align: top;\n",
       "    }\n",
       "\n",
       "    .dataframe thead th {\n",
       "        text-align: right;\n",
       "    }\n",
       "</style>\n",
       "<table border=\"1\" class=\"dataframe\">\n",
       "  <thead>\n",
       "    <tr style=\"text-align: right;\">\n",
       "      <th></th>\n",
       "      <th>type</th>\n",
       "      <th>posts</th>\n",
       "    </tr>\n",
       "  </thead>\n",
       "  <tbody>\n",
       "    <tr>\n",
       "      <th>0</th>\n",
       "      <td>INFJ</td>\n",
       "      <td>'http://www.youtube.com/watch?v=qsXHcwe3krw|||...</td>\n",
       "    </tr>\n",
       "    <tr>\n",
       "      <th>1</th>\n",
       "      <td>ENTP</td>\n",
       "      <td>'I'm finding the lack of me in these posts ver...</td>\n",
       "    </tr>\n",
       "    <tr>\n",
       "      <th>2</th>\n",
       "      <td>INTP</td>\n",
       "      <td>'Good one  _____   https://www.youtube.com/wat...</td>\n",
       "    </tr>\n",
       "    <tr>\n",
       "      <th>3</th>\n",
       "      <td>INTJ</td>\n",
       "      <td>'Dear INTP,   I enjoyed our conversation the o...</td>\n",
       "    </tr>\n",
       "    <tr>\n",
       "      <th>4</th>\n",
       "      <td>ENTJ</td>\n",
       "      <td>'You're fired.|||That's another silly misconce...</td>\n",
       "    </tr>\n",
       "  </tbody>\n",
       "</table>\n",
       "</div>"
      ],
      "text/plain": [
       "   type                                              posts\n",
       "0  INFJ  'http://www.youtube.com/watch?v=qsXHcwe3krw|||...\n",
       "1  ENTP  'I'm finding the lack of me in these posts ver...\n",
       "2  INTP  'Good one  _____   https://www.youtube.com/wat...\n",
       "3  INTJ  'Dear INTP,   I enjoyed our conversation the o...\n",
       "4  ENTJ  'You're fired.|||That's another silly misconce..."
      ]
     },
     "execution_count": 2,
     "metadata": {},
     "output_type": "execute_result"
    }
   ],
   "source": [
    "data=pd.read_csv('C:\\\\Users\\\\Akshita Puri\\\\Desktop\\\\project\\\\dmpa\\\\mbti_1.csv')\n",
    "data=data.iloc[0:5000,:]\n",
    "data.head()"
   ]
  },
  {
   "cell_type": "code",
   "execution_count": 3,
   "metadata": {},
   "outputs": [
    {
     "data": {
      "image/png": "[encoded data removed]",
      "text/plain": [
       "<Figure size 864x288 with 1 Axes>"
      ]
     },
     "metadata": {
      "needs_background": "light"
     },
     "output_type": "display_data"
    }
   ],
   "source": [
    "cnt_types=data['type'].value_counts()\n",
    "plt.figure(figsize=(12,4))\n",
    "sns.barplot(cnt_types.index,cnt_types.values,alpha=0.8)\n",
    "plt.ylabel('Frequency')\n",
    "plt.xlabel('Types')\n",
    "plt.show()"
   ]
  },
  {
   "cell_type": "code",
   "execution_count": 36,
   "metadata": {},
   "outputs": [],
   "source": [
    "import re"
   ]
  },
  {
   "cell_type": "markdown",
   "metadata": {},
   "source": [
    "# Data Preprocessing"
   ]
  },
  {
   "cell_type": "markdown",
   "metadata": {},
   "source": [
    "This particular function below is required to encode the personality type combinations into binary format. It is then applied to the training dataset."
   ]
  },
  {
   "cell_type": "code",
   "execution_count": 37,
   "metadata": {},
   "outputs": [
    {
     "data": {
      "text/html": [
       "<div>\n",
       "<style scoped>\n",
       "    .dataframe tbody tr th:only-of-type {\n",
       "        vertical-align: middle;\n",
       "    }\n",
       "\n",
       "    .dataframe tbody tr th {\n",
       "        vertical-align: top;\n",
       "    }\n",
       "\n",
       "    .dataframe thead th {\n",
       "        text-align: right;\n",
       "    }\n",
       "</style>\n",
       "<table border=\"1\" class=\"dataframe\">\n",
       "  <thead>\n",
       "    <tr style=\"text-align: right;\">\n",
       "      <th></th>\n",
       "      <th>type</th>\n",
       "      <th>posts</th>\n",
       "      <th>IE</th>\n",
       "      <th>NS</th>\n",
       "      <th>TF</th>\n",
       "      <th>JP</th>\n",
       "    </tr>\n",
       "  </thead>\n",
       "  <tbody>\n",
       "    <tr>\n",
       "      <th>0</th>\n",
       "      <td>INFJ</td>\n",
       "      <td>'http://www.youtube.com/watch?v=qsXHcwe3krw|||...</td>\n",
       "      <td>1</td>\n",
       "      <td>1</td>\n",
       "      <td>0</td>\n",
       "      <td>1</td>\n",
       "    </tr>\n",
       "    <tr>\n",
       "      <th>1</th>\n",
       "      <td>ENTP</td>\n",
       "      <td>'I'm finding the lack of me in these posts ver...</td>\n",
       "      <td>0</td>\n",
       "      <td>1</td>\n",
       "      <td>1</td>\n",
       "      <td>0</td>\n",
       "    </tr>\n",
       "    <tr>\n",
       "      <th>2</th>\n",
       "      <td>INTP</td>\n",
       "      <td>'Good one  _____   https://www.youtube.com/wat...</td>\n",
       "      <td>1</td>\n",
       "      <td>1</td>\n",
       "      <td>1</td>\n",
       "      <td>0</td>\n",
       "    </tr>\n",
       "    <tr>\n",
       "      <th>3</th>\n",
       "      <td>INTJ</td>\n",
       "      <td>'Dear INTP,   I enjoyed our conversation the o...</td>\n",
       "      <td>1</td>\n",
       "      <td>1</td>\n",
       "      <td>1</td>\n",
       "      <td>1</td>\n",
       "    </tr>\n",
       "    <tr>\n",
       "      <th>4</th>\n",
       "      <td>ENTJ</td>\n",
       "      <td>'You're fired.|||That's another silly misconce...</td>\n",
       "      <td>0</td>\n",
       "      <td>1</td>\n",
       "      <td>1</td>\n",
       "      <td>1</td>\n",
       "    </tr>\n",
       "  </tbody>\n",
       "</table>\n",
       "</div>"
      ],
      "text/plain": [
       "   type                                              posts  IE  NS  TF  JP\n",
       "0  INFJ  'http://www.youtube.com/watch?v=qsXHcwe3krw|||...   1   1   0   1\n",
       "1  ENTP  'I'm finding the lack of me in these posts ver...   0   1   1   0\n",
       "2  INTP  'Good one  _____   https://www.youtube.com/wat...   1   1   1   0\n",
       "3  INTJ  'Dear INTP,   I enjoyed our conversation the o...   1   1   1   1\n",
       "4  ENTJ  'You're fired.|||That's another silly misconce...   0   1   1   1"
      ]
     },
     "execution_count": 37,
     "metadata": {},
     "output_type": "execute_result"
    }
   ],
   "source": [
    "def get_types(row):\n",
    "    t=row['type']\n",
    "    I=0;N=0\n",
    "    T=0;J=0\n",
    "    if(t[0]=='I'):\n",
    "        I=1\n",
    "    elif(t[0]=='E'):\n",
    "        I=0\n",
    "    else:\n",
    "        print('IE incorrect')\n",
    "    if(t[1]=='N'):\n",
    "        N=1\n",
    "    elif(t[1]=='S'):\n",
    "        N=0\n",
    "    else:\n",
    "        print('NS incorrect')\n",
    "        \n",
    "    if(t[2]=='T'):\n",
    "        T=1\n",
    "    elif(t[2]=='F'):\n",
    "        T=0\n",
    "    else:\n",
    "        print('TF incorrect')\n",
    "    if(t[3]=='J'):\n",
    "        J=1\n",
    "    elif(t[3]=='P'):\n",
    "        J=0\n",
    "    else:\n",
    "        print('JP incorrect')\n",
    "    \n",
    "    return pd.Series({'IE':I,'NS':N,'TF':T,'JP':J})\n",
    "\n",
    "data=data.join(data.apply(lambda row: get_types(row),axis=1))\n",
    "data.head()"
   ]
  },
  {
   "cell_type": "markdown",
   "metadata": {},
   "source": [
    "A simple correlation matrix in order to remove if there are any dependent personality types. This is not a necessary step but useful in getting insight of the data."
   ]
  },
  {
   "cell_type": "code",
   "execution_count": 38,
   "metadata": {},
   "outputs": [
    {
     "data": {
      "text/html": [
       "<div>\n",
       "<style scoped>\n",
       "    .dataframe tbody tr th:only-of-type {\n",
       "        vertical-align: middle;\n",
       "    }\n",
       "\n",
       "    .dataframe tbody tr th {\n",
       "        vertical-align: top;\n",
       "    }\n",
       "\n",
       "    .dataframe thead th {\n",
       "        text-align: right;\n",
       "    }\n",
       "</style>\n",
       "<table border=\"1\" class=\"dataframe\">\n",
       "  <thead>\n",
       "    <tr style=\"text-align: right;\">\n",
       "      <th></th>\n",
       "      <th>IE</th>\n",
       "      <th>NS</th>\n",
       "      <th>TF</th>\n",
       "      <th>JP</th>\n",
       "    </tr>\n",
       "  </thead>\n",
       "  <tbody>\n",
       "    <tr>\n",
       "      <th>IE</th>\n",
       "      <td>1.000000</td>\n",
       "      <td>-0.031347</td>\n",
       "      <td>-0.079885</td>\n",
       "      <td>0.169806</td>\n",
       "    </tr>\n",
       "    <tr>\n",
       "      <th>NS</th>\n",
       "      <td>-0.031347</td>\n",
       "      <td>1.000000</td>\n",
       "      <td>-0.088525</td>\n",
       "      <td>0.020528</td>\n",
       "    </tr>\n",
       "    <tr>\n",
       "      <th>TF</th>\n",
       "      <td>-0.079885</td>\n",
       "      <td>-0.088525</td>\n",
       "      <td>1.000000</td>\n",
       "      <td>-0.020733</td>\n",
       "    </tr>\n",
       "    <tr>\n",
       "      <th>JP</th>\n",
       "      <td>0.169806</td>\n",
       "      <td>0.020528</td>\n",
       "      <td>-0.020733</td>\n",
       "      <td>1.000000</td>\n",
       "    </tr>\n",
       "  </tbody>\n",
       "</table>\n",
       "</div>"
      ],
      "text/plain": [
       "          IE        NS        TF        JP\n",
       "IE  1.000000 -0.031347 -0.079885  0.169806\n",
       "NS -0.031347  1.000000 -0.088525  0.020528\n",
       "TF -0.079885 -0.088525  1.000000 -0.020733\n",
       "JP  0.169806  0.020528 -0.020733  1.000000"
      ]
     },
     "execution_count": 38,
     "metadata": {},
     "output_type": "execute_result"
    }
   ],
   "source": [
    "data[['IE','NS','TF','JP']].corr()"
   ]
  },
  {
   "cell_type": "markdown",
   "metadata": {},
   "source": [
    "These 2 functions are used to retrieve the personality type from binary format and vice versa."
   ]
  },
  {
   "cell_type": "code",
   "execution_count": 39,
   "metadata": {},
   "outputs": [],
   "source": [
    "b_pers={'I':0,'E':1,'N':0,'S':1,'F':0,'T':1,'J':0,'P':1}\n",
    "b_persList=[{0:'I',1:'E'},{0:'N',1:'S'},{0:'F',1:'T'},{0:'J',1:'P'}]\n",
    "def translate_pers(personal):\n",
    "    return[b_pers[l] for l in personal]\n",
    "def translate_back(person):\n",
    "    s=\"\"\n",
    "    for i,l in enumerate(person):\n",
    "        s+=b_persList[i][l]\n",
    "    return s"
   ]
  },
  {
   "cell_type": "markdown",
   "metadata": {},
   "source": [
    "The following python libraries are quitessential for sentiment analysis.\n",
    "PorterStemmer is used for stemming which implies that all the the words are converted to their root words in order to extravicate the same meaning. For eg: the root word for studied, studying and studies will be study.\n",
    "Stopwords are used to remove the short words like 'is','an','was' etc which particularly do not hold any context.\n",
    "Tokenize is to convert the text into a list of words without the stopwords."
   ]
  },
  {
   "cell_type": "code",
   "execution_count": 40,
   "metadata": {},
   "outputs": [],
   "source": [
    "from nltk.stem import PorterStemmer,WordNetLemmatizer\n",
    "from nltk.corpus import stopwords\n",
    "from nltk import word_tokenize"
   ]
  },
  {
   "cell_type": "markdown",
   "metadata": {},
   "source": [
    "Since we will also be dealing with tweets which involve content like emoticons, hastags,various non textual symbols, below is a function which takes care of removal of all such irrelvant information. Yes emoticons can be decoded as well and they may provide some information but they would have negligible reflection on personality.\n",
    "The re library handles all the regular expressions for removal."
   ]
  },
  {
   "cell_type": "code",
   "execution_count": 41,
   "metadata": {},
   "outputs": [],
   "source": [
    "unique_type_list=['infj','entp','intp','intj','entj','enfj','infp','enfp','isfp','istp','isfj','istj','estp','esfp','estj','esfj']\n",
    "stemmer=PorterStemmer()\n",
    "lemmatizer=WordNetLemmatizer()\n",
    "sw=stopwords.words('english')\n",
    "def pre_process(data,remove_stop_words=True,remove_mbti_profiles=True):\n",
    "    personality=[]\n",
    "    post=[]\n",
    "    len_data=len(data)\n",
    "    i=0\n",
    "    \n",
    "    for row in data.iterrows():\n",
    "        pos=row[1].posts\n",
    "        temp=re.sub('http[s]?://(?:[a-zA-Z]|[0-9]|[$-@._&+]|(?:[0-9a-fA-F][0-9a-fA-F]))+',' ',pos)\n",
    "        temp=re.sub(\"^[a-zA-Z]\",\" \",temp)\n",
    "        temp=re.sub(' +',' ',temp).lower()\n",
    "        if remove_stop_words:\n",
    "            temp=\" \".join([lemmatizer.lemmatize(w) for w in temp.split(' ') if w not in sw])\n",
    "        else:\n",
    "            temp=\" \".join([lemmatizer.lemmatize(w) for w in temp.split(' ')])\n",
    "        \n",
    "        \n",
    "                \n",
    "        type_labelized=translate_pers(row[1].type)\n",
    "        personality.append(type_labelized)\n",
    "        post.append(temp)\n",
    "    post=np.array(post)\n",
    "    personality=np.array(personality)\n",
    "    return post,personality\n",
    "    "
   ]
  },
  {
   "cell_type": "code",
   "execution_count": 42,
   "metadata": {},
   "outputs": [],
   "source": [
    "list_posts,list_personality=pre_process(data,remove_stop_words=True)"
   ]
  },
  {
   "cell_type": "markdown",
   "metadata": {},
   "source": [
    "Tf-Idf is an important concept when dealing with textual data. It has some simple math behind it but the utility is, in simple words, to obtain words which are low in frequency ie the ones which provide the context.\n"
   ]
  },
  {
   "cell_type": "code",
   "execution_count": 43,
   "metadata": {},
   "outputs": [],
   "source": [
    "from sklearn.feature_extraction.text import TfidfTransformer\n",
    "from sklearn.feature_extraction.text import CountVectorizer\n",
    "from sklearn.manifold import TSNE"
   ]
  },
  {
   "cell_type": "code",
   "execution_count": 44,
   "metadata": {},
   "outputs": [],
   "source": [
    "counter=CountVectorizer(analyzer=\"word\",max_features=1500,tokenizer=None,max_df=0.7,min_df=0.1)\n",
    "x_cnt=counter.fit_transform(list_posts)\n",
    "tf=TfidfTransformer()\n",
    "x_tfidf=tf.fit_transform(x_cnt).toarray()"
   ]
  },
  {
   "cell_type": "code",
   "execution_count": 45,
   "metadata": {},
   "outputs": [],
   "source": [
    "features=list(enumerate(counter.get_feature_names()))\n"
   ]
  },
  {
   "cell_type": "code",
   "execution_count": 46,
   "metadata": {},
   "outputs": [],
   "source": [
    "type_indicators=[\"IE:Introversion(I)/Extroversion(E)\",\"NS:Intuition(N)-Sensing(S)\",\"FT:Feeling(F)-Thinking(T)\",\"JP:Judging(J)-Perceiving(P)\"]\n"
   ]
  },
  {
   "cell_type": "markdown",
   "metadata": {},
   "source": [
    "# Model Fitting"
   ]
  },
  {
   "cell_type": "markdown",
   "metadata": {},
   "source": [
    "The model we have worked on is that using XGboost which is derived from Gradient Boost.\n",
    "Gradient boost has a lot of depth to it but as of now we have used it for classification. Here,in XGBoost, a number of classification trees are built with parameters like learning rate and regularization added to simple gradient boost which need to be tuned to obtain optimum results.\n",
    "\n"
   ]
  },
  {
   "cell_type": "markdown",
   "metadata": {},
   "source": [
    "The model will be trained from the training set imported earlier and then it will be used to predict the personality type of a user from Twitter using their tweets."
   ]
  },
  {
   "cell_type": "code",
   "execution_count": 48,
   "metadata": {},
   "outputs": [],
   "source": [
    "from numpy import loadtxt\n",
    "from xgboost import XGBClassifier\n",
    "from sklearn.model_selection import train_test_split\n",
    "from sklearn.metrics import accuracy_score\n"
   ]
  },
  {
   "cell_type": "markdown",
   "metadata": {},
   "source": [
    "Starting below, we have illustrated how we keep adding paramters to our model in order to build it.\n",
    "First, we started with basic XGBoostClassifier and obtained an accuracy score via testing on 20% of the training data."
   ]
  },
  {
   "cell_type": "code",
   "execution_count": 49,
   "metadata": {},
   "outputs": [
    {
     "name": "stdout",
     "output_type": "stream",
     "text": [
      "IE:Introversion(I)/Extroversion(E) ....\n",
      "84.72727272727273\n",
      "NS:Intuition(N)-Sensing(S) ....\n",
      "90.24242424242425\n",
      "FT:Feeling(F)-Thinking(T) ....\n",
      "83.75757575757575\n",
      "JP:Judging(J)-Perceiving(P) ....\n",
      "80.36363636363636\n"
     ]
    }
   ],
   "source": [
    "X=x_tfidf\n",
    "acc=[]\n",
    "for l in range(len(type_indicators)):\n",
    "    print(type_indicators[l],'....')\n",
    "    Y=list_personality[:,l]\n",
    "    \n",
    "    x_train,x_test,y_train,y_test=train_test_split(X,Y,test_size=0.33,random_state=42)\n",
    "    model=XGBClassifier()\n",
    "    model.fit(x_train,y_train)\n",
    "    y_pred=model.predict(x_test)\n",
    "    predictions=[round(value) for value in y_pred]\n",
    "    accuracy=accuracy_score(y_test,predictions)\n",
    "    \n",
    "    print(accuracy*100.0)\n",
    "\n",
    "    "
   ]
  },
  {
   "cell_type": "markdown",
   "metadata": {},
   "source": [
    "Next, we added a few more parameters to increase the learning efficiency of the model.  "
   ]
  },
  {
   "cell_type": "code",
   "execution_count": 50,
   "metadata": {},
   "outputs": [
    {
     "name": "stdout",
     "output_type": "stream",
     "text": [
      "IE:Introversion(I)/Extroversion(E) ....\n",
      "[0]\tvalidation_0-logloss:0.56550\n",
      "Will train until validation_0-logloss hasn't improved in 10 rounds.\n",
      "[1]\tvalidation_0-logloss:0.49741\n",
      "[2]\tvalidation_0-logloss:0.45314\n",
      "[3]\tvalidation_0-logloss:0.42912\n",
      "[4]\tvalidation_0-logloss:0.41004\n",
      "[5]\tvalidation_0-logloss:0.39831\n",
      "[6]\tvalidation_0-logloss:0.38906\n",
      "[7]\tvalidation_0-logloss:0.37488\n",
      "[8]\tvalidation_0-logloss:0.36990\n",
      "[9]\tvalidation_0-logloss:0.36266\n",
      "[10]\tvalidation_0-logloss:0.36050\n",
      "[11]\tvalidation_0-logloss:0.35886\n",
      "[12]\tvalidation_0-logloss:0.35595\n",
      "[13]\tvalidation_0-logloss:0.35565\n",
      "[14]\tvalidation_0-logloss:0.35449\n",
      "[15]\tvalidation_0-logloss:0.35264\n",
      "[16]\tvalidation_0-logloss:0.34927\n",
      "[17]\tvalidation_0-logloss:0.34896\n",
      "[18]\tvalidation_0-logloss:0.34998\n",
      "[19]\tvalidation_0-logloss:0.35107\n",
      "[20]\tvalidation_0-logloss:0.35079\n",
      "[21]\tvalidation_0-logloss:0.34884\n",
      "[22]\tvalidation_0-logloss:0.34836\n",
      "[23]\tvalidation_0-logloss:0.34841\n",
      "[24]\tvalidation_0-logloss:0.34909\n",
      "[25]\tvalidation_0-logloss:0.34939\n",
      "[26]\tvalidation_0-logloss:0.35071\n",
      "[27]\tvalidation_0-logloss:0.34858\n",
      "[28]\tvalidation_0-logloss:0.34985\n",
      "[29]\tvalidation_0-logloss:0.34939\n",
      "[30]\tvalidation_0-logloss:0.35099\n",
      "[31]\tvalidation_0-logloss:0.34984\n",
      "[32]\tvalidation_0-logloss:0.34979\n",
      "Stopping. Best iteration:\n",
      "[22]\tvalidation_0-logloss:0.34836\n",
      "\n",
      "84.66666666666667\n",
      "NS:Intuition(N)-Sensing(S) ....\n",
      "[0]\tvalidation_0-logloss:0.52669\n",
      "Will train until validation_0-logloss hasn't improved in 10 rounds.\n",
      "[1]\tvalidation_0-logloss:0.43587\n",
      "[2]\tvalidation_0-logloss:0.37952\n",
      "[3]\tvalidation_0-logloss:0.34242\n",
      "[4]\tvalidation_0-logloss:0.31881\n",
      "[5]\tvalidation_0-logloss:0.30206\n",
      "[6]\tvalidation_0-logloss:0.28657\n",
      "[7]\tvalidation_0-logloss:0.27826\n",
      "[8]\tvalidation_0-logloss:0.27292\n",
      "[9]\tvalidation_0-logloss:0.26512\n",
      "[10]\tvalidation_0-logloss:0.26353\n",
      "[11]\tvalidation_0-logloss:0.25927\n",
      "[12]\tvalidation_0-logloss:0.25637\n",
      "[13]\tvalidation_0-logloss:0.25786\n",
      "[14]\tvalidation_0-logloss:0.25874\n",
      "[15]\tvalidation_0-logloss:0.25764\n",
      "[16]\tvalidation_0-logloss:0.25665\n",
      "[17]\tvalidation_0-logloss:0.25705\n",
      "[18]\tvalidation_0-logloss:0.25688\n",
      "[19]\tvalidation_0-logloss:0.25524\n",
      "[20]\tvalidation_0-logloss:0.25583\n",
      "[21]\tvalidation_0-logloss:0.25561\n",
      "[22]\tvalidation_0-logloss:0.25507\n",
      "[23]\tvalidation_0-logloss:0.25369\n",
      "[24]\tvalidation_0-logloss:0.25619\n",
      "[25]\tvalidation_0-logloss:0.25620\n",
      "[26]\tvalidation_0-logloss:0.25808\n",
      "[27]\tvalidation_0-logloss:0.25736\n",
      "[28]\tvalidation_0-logloss:0.25762\n",
      "[29]\tvalidation_0-logloss:0.25894\n",
      "[30]\tvalidation_0-logloss:0.25925\n",
      "[31]\tvalidation_0-logloss:0.25959\n",
      "[32]\tvalidation_0-logloss:0.26043\n",
      "[33]\tvalidation_0-logloss:0.26345\n",
      "Stopping. Best iteration:\n",
      "[23]\tvalidation_0-logloss:0.25369\n",
      "\n",
      "90.06060606060606\n",
      "FT:Feeling(F)-Thinking(T) ....\n",
      "[0]\tvalidation_0-logloss:0.59635\n",
      "Will train until validation_0-logloss hasn't improved in 10 rounds.\n",
      "[1]\tvalidation_0-logloss:0.54727\n",
      "[2]\tvalidation_0-logloss:0.51216\n",
      "[3]\tvalidation_0-logloss:0.48908\n",
      "[4]\tvalidation_0-logloss:0.46987\n",
      "[5]\tvalidation_0-logloss:0.45139\n",
      "[6]\tvalidation_0-logloss:0.43880\n",
      "[7]\tvalidation_0-logloss:0.43102\n",
      "[8]\tvalidation_0-logloss:0.42246\n",
      "[9]\tvalidation_0-logloss:0.41375\n",
      "[10]\tvalidation_0-logloss:0.41081\n",
      "[11]\tvalidation_0-logloss:0.40493\n",
      "[12]\tvalidation_0-logloss:0.39995\n",
      "[13]\tvalidation_0-logloss:0.39888\n",
      "[14]\tvalidation_0-logloss:0.39470\n",
      "[15]\tvalidation_0-logloss:0.39104\n",
      "[16]\tvalidation_0-logloss:0.38879\n",
      "[17]\tvalidation_0-logloss:0.38719\n",
      "[18]\tvalidation_0-logloss:0.38428\n",
      "[19]\tvalidation_0-logloss:0.38233\n",
      "[20]\tvalidation_0-logloss:0.38192\n",
      "[21]\tvalidation_0-logloss:0.37802\n",
      "[22]\tvalidation_0-logloss:0.37713\n",
      "[23]\tvalidation_0-logloss:0.37706\n",
      "[24]\tvalidation_0-logloss:0.37589\n",
      "[25]\tvalidation_0-logloss:0.37437\n",
      "[26]\tvalidation_0-logloss:0.37183\n",
      "[27]\tvalidation_0-logloss:0.37242\n",
      "[28]\tvalidation_0-logloss:0.37097\n",
      "[29]\tvalidation_0-logloss:0.37047\n",
      "[30]\tvalidation_0-logloss:0.36842\n",
      "[31]\tvalidation_0-logloss:0.37165\n",
      "[32]\tvalidation_0-logloss:0.37130\n",
      "[33]\tvalidation_0-logloss:0.37106\n",
      "[34]\tvalidation_0-logloss:0.37105\n",
      "[35]\tvalidation_0-logloss:0.37188\n",
      "[36]\tvalidation_0-logloss:0.37080\n",
      "[37]\tvalidation_0-logloss:0.37254\n",
      "[38]\tvalidation_0-logloss:0.37064\n",
      "[39]\tvalidation_0-logloss:0.37117\n",
      "[40]\tvalidation_0-logloss:0.37027\n",
      "Stopping. Best iteration:\n",
      "[30]\tvalidation_0-logloss:0.36842\n",
      "\n",
      "84.06060606060606\n",
      "JP:Judging(J)-Perceiving(P) ....\n",
      "[0]\tvalidation_0-logloss:0.61598\n",
      "Will train until validation_0-logloss hasn't improved in 10 rounds.\n",
      "[1]\tvalidation_0-logloss:0.57350\n",
      "[2]\tvalidation_0-logloss:0.54665\n",
      "[3]\tvalidation_0-logloss:0.52665\n",
      "[4]\tvalidation_0-logloss:0.51186\n",
      "[5]\tvalidation_0-logloss:0.50336\n",
      "[6]\tvalidation_0-logloss:0.49684\n",
      "[7]\tvalidation_0-logloss:0.49404\n",
      "[8]\tvalidation_0-logloss:0.48539\n",
      "[9]\tvalidation_0-logloss:0.48216\n",
      "[10]\tvalidation_0-logloss:0.47606\n",
      "[11]\tvalidation_0-logloss:0.47610\n",
      "[12]\tvalidation_0-logloss:0.47544\n",
      "[13]\tvalidation_0-logloss:0.47459\n",
      "[14]\tvalidation_0-logloss:0.47704\n",
      "[15]\tvalidation_0-logloss:0.47432\n",
      "[16]\tvalidation_0-logloss:0.47494\n",
      "[17]\tvalidation_0-logloss:0.47624\n",
      "[18]\tvalidation_0-logloss:0.47556\n",
      "[19]\tvalidation_0-logloss:0.47580\n",
      "[20]\tvalidation_0-logloss:0.47702\n",
      "[21]\tvalidation_0-logloss:0.47685\n",
      "[22]\tvalidation_0-logloss:0.47641\n",
      "[23]\tvalidation_0-logloss:0.47487\n",
      "[24]\tvalidation_0-logloss:0.47565\n",
      "[25]\tvalidation_0-logloss:0.47588\n",
      "Stopping. Best iteration:\n",
      "[15]\tvalidation_0-logloss:0.47432\n",
      "\n",
      "78.06060606060606\n"
     ]
    }
   ],
   "source": [
    "for l in range(len(type_indicators)):\n",
    "    print(type_indicators[l],'....')\n",
    "    Y=list_personality[:,l]\n",
    "    \n",
    "    x_train,x_test,y_train,y_test=train_test_split(X,Y,test_size=0.33,random_state=42)\n",
    "    model=XGBClassifier()\n",
    "    eval_set=[(x_test,y_test)]\n",
    "    model.fit(x_train,y_train,early_stopping_rounds=10,eval_metric=\"logloss\",eval_set=eval_set,verbose=True)\n",
    "    y_pred=model.predict(x_test)\n",
    "    predictions=[round(value) for value in y_pred]\n",
    "    accuracy=accuracy_score(y_test,predictions)\n",
    "    print(accuracy*100.0)"
   ]
  },
  {
   "cell_type": "markdown",
   "metadata": {},
   "source": [
    "We observe a slight variation in the accuracy scores between the two models.\n",
    "Next, we will bring in our tweets obtained using RapidMiner to test our model."
   ]
  },
  {
   "cell_type": "code",
   "execution_count": 51,
   "metadata": {},
   "outputs": [],
   "source": [
    "tweets=pd.read_csv('C:\\\\Users\\\\Akshita Puri\\\\Desktop\\\\project\\\\dmpa\\\\TomCruise_cleanedT.csv')"
   ]
  },
  {
   "cell_type": "code",
   "execution_count": 52,
   "metadata": {},
   "outputs": [
    {
     "data": {
      "text/html": [
       "<div>\n",
       "<style scoped>\n",
       "    .dataframe tbody tr th:only-of-type {\n",
       "        vertical-align: middle;\n",
       "    }\n",
       "\n",
       "    .dataframe tbody tr th {\n",
       "        vertical-align: top;\n",
       "    }\n",
       "\n",
       "    .dataframe thead th {\n",
       "        text-align: right;\n",
       "    }\n",
       "</style>\n",
       "<table border=\"1\" class=\"dataframe\">\n",
       "  <thead>\n",
       "    <tr style=\"text-align: right;\">\n",
       "      <th></th>\n",
       "      <th>ID</th>\n",
       "      <th>Text</th>\n",
       "    </tr>\n",
       "  </thead>\n",
       "  <tbody>\n",
       "    <tr>\n",
       "      <th>0</th>\n",
       "      <td>0</td>\n",
       "      <td>Summer #TopGun https AABKxnEDv</td>\n",
       "    </tr>\n",
       "    <tr>\n",
       "      <th>1</th>\n",
       "      <td>1</td>\n",
       "      <td>Warning Real flying Real forces make puke #Top...</td>\n",
       "    </tr>\n",
       "    <tr>\n",
       "      <th>2</th>\n",
       "      <td>2</td>\n",
       "      <td>#TopGun https vdhTtXb</td>\n",
       "    </tr>\n",
       "    <tr>\n",
       "      <th>3</th>\n",
       "      <td>3</td>\n",
       "      <td>Feel need Trailer tomorrow #TopGun https rWHfK...</td>\n",
       "    </tr>\n",
       "    <tr>\n",
       "      <th>4</th>\n",
       "      <td>4</td>\n",
       "      <td>Thank fans came Hall today great share first t...</td>\n",
       "    </tr>\n",
       "  </tbody>\n",
       "</table>\n",
       "</div>"
      ],
      "text/plain": [
       "   ID                                               Text\n",
       "0   0                     Summer #TopGun https AABKxnEDv\n",
       "1   1  Warning Real flying Real forces make puke #Top...\n",
       "2   2                              #TopGun https vdhTtXb\n",
       "3   3  Feel need Trailer tomorrow #TopGun https rWHfK...\n",
       "4   4  Thank fans came Hall today great share first t..."
      ]
     },
     "execution_count": 52,
     "metadata": {},
     "output_type": "execute_result"
    }
   ],
   "source": [
    "tweets.head()"
   ]
  },
  {
   "cell_type": "code",
   "execution_count": 53,
   "metadata": {},
   "outputs": [],
   "source": [
    "tweet=' '.join(tweets.Text)"
   ]
  },
  {
   "cell_type": "markdown",
   "metadata": {},
   "source": [
    "Here, an initial value needs to be assigned for XGBoost to form a tree. This initial value keeps getting corrected as the model proceeds while creating trees. Hence, we have assigned any random personality type to the user tweets."
   ]
  },
  {
   "cell_type": "code",
   "execution_count": 54,
   "metadata": {},
   "outputs": [],
   "source": [
    "final_t=pd.DataFrame(data={'type':'INFJ','posts':[tweet]})"
   ]
  },
  {
   "cell_type": "markdown",
   "metadata": {},
   "source": [
    "Tweets will also require data cleaning"
   ]
  },
  {
   "cell_type": "code",
   "execution_count": 55,
   "metadata": {},
   "outputs": [],
   "source": [
    "tweet,dummy=pre_process(final_t,remove_stop_words=True)"
   ]
  },
  {
   "cell_type": "markdown",
   "metadata": {},
   "source": [
    "We will also find the contextual words in tweets to compare with our training set and that is the basis for tree formation."
   ]
  },
  {
   "cell_type": "code",
   "execution_count": 56,
   "metadata": {},
   "outputs": [],
   "source": [
    "t_x_cnt=counter.transform(tweet)\n",
    "\n",
    "t_x_tfidf=tf.transform(t_x_cnt).toarray()"
   ]
  },
  {
   "cell_type": "markdown",
   "metadata": {},
   "source": [
    "# Fitting the model and Predicting"
   ]
  },
  {
   "cell_type": "code",
   "execution_count": 57,
   "metadata": {},
   "outputs": [
    {
     "name": "stdout",
     "output_type": "stream",
     "text": [
      "IE:Introversion(I)/Extroversion(E) ....\n",
      "NS:Intuition(N)-Sensing(S) ....\n",
      "FT:Feeling(F)-Thinking(T) ....\n",
      "JP:Judging(J)-Perceiving(P) ....\n"
     ]
    }
   ],
   "source": [
    "param={}\n",
    "param['n_parameters']=200\n",
    "param['max_depth']=2\n",
    "param['n_thread']=8\n",
    "param['learning_rate']=0.2\n",
    "\n",
    "result=[]\n",
    "for l in range(len(type_indicators)):\n",
    "    print(type_indicators[l],'....')\n",
    "    Y=list_personality[:,l]\n",
    "    \n",
    "    x_train,x_test,y_train,y_test=train_test_split(X,Y,test_size=0.33,random_state=42)\n",
    "    model=XGBClassifier(**param)\n",
    "    model.fit(x_train,y_train)\n",
    "    y_pred=model.predict(t_x_tfidf)\n",
    "    result.append(y_pred[0])\n"
   ]
  },
  {
   "cell_type": "code",
   "execution_count": 58,
   "metadata": {},
   "outputs": [
    {
     "data": {
      "text/plain": [
       "'INFP'"
      ]
     },
     "execution_count": 58,
     "metadata": {},
     "output_type": "execute_result"
    }
   ],
   "source": [
    "translate_back(result)"
   ]
  },
  {
   "cell_type": "code",
   "execution_count": null,
   "metadata": {},
   "outputs": [],
   "source": []
  }
 ],
 "metadata": {
  "kernelspec": {
   "display_name": "Python 3",
   "language": "python",
   "name": "python3"
  },
  "language_info": {
   "codemirror_mode": {
    "name": "ipython",
    "version": 3
   },
   "file_extension": ".py",
   "mimetype": "text/x-python",
   "name": "python",
   "nbconvert_exporter": "python",
   "pygments_lexer": "ipython3",
   "version": "3.7.6"
  }
 },
 "nbformat": 4,
 "nbformat_minor": 4
}
